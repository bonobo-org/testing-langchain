{
 "cells": [
  {
   "cell_type": "code",
   "execution_count": 1,
   "id": "b42a888c-a9a8-497e-8ce7-9d006c2fe417",
   "metadata": {},
   "outputs": [
    {
     "name": "stdin",
     "output_type": "stream",
     "text": [
      " ········\n"
     ]
    }
   ],
   "source": [
    "import getpass\n",
    "import os\n",
    "\n",
    "os.environ[\"LANGSMITH_TRACING\"] = \"true\"\n",
    "os.environ[\"LANGSMITH_API_KEY\"] = getpass.getpass()"
   ]
  },
  {
   "cell_type": "code",
   "execution_count": 2,
   "id": "73d60a0f-a602-4c72-b7be-7c671f15196c",
   "metadata": {},
   "outputs": [
    {
     "name": "stdout",
     "output_type": "stream",
     "text": [
      "\u001b[33mWARNING: Ignoring invalid distribution ~ydantic (/home/seb/BonoboAI/.venv/lib/python3.13/site-packages)\u001b[0m\u001b[33m\n",
      "\u001b[0m\u001b[33mWARNING: Ignoring invalid distribution ~ydantic (/home/seb/BonoboAI/.venv/lib/python3.13/site-packages)\u001b[0m\u001b[33m\n",
      "\u001b[0mRequirement already satisfied: langchain-community in ./.venv/lib/python3.13/site-packages (0.3.23)\n",
      "Requirement already satisfied: langgraph in ./.venv/lib/python3.13/site-packages (0.4.1)\n",
      "Requirement already satisfied: langchain-anthropic in ./.venv/lib/python3.13/site-packages (0.3.12)\n",
      "Requirement already satisfied: tavily-python in ./.venv/lib/python3.13/site-packages (0.7.1)\n",
      "Requirement already satisfied: langgraph-checkpoint-sqlite in ./.venv/lib/python3.13/site-packages (2.0.7)\n",
      "Requirement already satisfied: langchain-core<1.0.0,>=0.3.56 in ./.venv/lib/python3.13/site-packages (from langchain-community) (0.3.58)\n",
      "Requirement already satisfied: langchain<1.0.0,>=0.3.24 in ./.venv/lib/python3.13/site-packages (from langchain-community) (0.3.25)\n",
      "Requirement already satisfied: SQLAlchemy<3,>=1.4 in ./.venv/lib/python3.13/site-packages (from langchain-community) (2.0.40)\n",
      "Requirement already satisfied: requests<3,>=2 in ./.venv/lib/python3.13/site-packages (from langchain-community) (2.32.3)\n",
      "Requirement already satisfied: PyYAML>=5.3 in ./.venv/lib/python3.13/site-packages (from langchain-community) (6.0.2)\n",
      "Requirement already satisfied: aiohttp<4.0.0,>=3.8.3 in ./.venv/lib/python3.13/site-packages (from langchain-community) (3.11.18)\n",
      "Requirement already satisfied: tenacity!=8.4.0,<10,>=8.1.0 in ./.venv/lib/python3.13/site-packages (from langchain-community) (9.1.2)\n",
      "Requirement already satisfied: dataclasses-json<0.7,>=0.5.7 in ./.venv/lib/python3.13/site-packages (from langchain-community) (0.6.7)\n",
      "Requirement already satisfied: pydantic-settings<3.0.0,>=2.4.0 in ./.venv/lib/python3.13/site-packages (from langchain-community) (2.9.1)\n",
      "Requirement already satisfied: langsmith<0.4,>=0.1.125 in ./.venv/lib/python3.13/site-packages (from langchain-community) (0.3.40)\n",
      "Requirement already satisfied: httpx-sse<1.0.0,>=0.4.0 in ./.venv/lib/python3.13/site-packages (from langchain-community) (0.4.0)\n",
      "Requirement already satisfied: numpy>=2.1.0 in ./.venv/lib/python3.13/site-packages (from langchain-community) (2.2.5)\n",
      "Requirement already satisfied: aiohappyeyeballs>=2.3.0 in ./.venv/lib/python3.13/site-packages (from aiohttp<4.0.0,>=3.8.3->langchain-community) (2.6.1)\n",
      "Requirement already satisfied: aiosignal>=1.1.2 in ./.venv/lib/python3.13/site-packages (from aiohttp<4.0.0,>=3.8.3->langchain-community) (1.3.2)\n",
      "Requirement already satisfied: attrs>=17.3.0 in ./.venv/lib/python3.13/site-packages (from aiohttp<4.0.0,>=3.8.3->langchain-community) (25.3.0)\n",
      "Requirement already satisfied: frozenlist>=1.1.1 in ./.venv/lib/python3.13/site-packages (from aiohttp<4.0.0,>=3.8.3->langchain-community) (1.6.0)\n",
      "Requirement already satisfied: multidict<7.0,>=4.5 in ./.venv/lib/python3.13/site-packages (from aiohttp<4.0.0,>=3.8.3->langchain-community) (6.4.3)\n",
      "Requirement already satisfied: propcache>=0.2.0 in ./.venv/lib/python3.13/site-packages (from aiohttp<4.0.0,>=3.8.3->langchain-community) (0.3.1)\n",
      "Requirement already satisfied: yarl<2.0,>=1.17.0 in ./.venv/lib/python3.13/site-packages (from aiohttp<4.0.0,>=3.8.3->langchain-community) (1.20.0)\n",
      "Requirement already satisfied: marshmallow<4.0.0,>=3.18.0 in ./.venv/lib/python3.13/site-packages (from dataclasses-json<0.7,>=0.5.7->langchain-community) (3.26.1)\n",
      "Requirement already satisfied: typing-inspect<1,>=0.4.0 in ./.venv/lib/python3.13/site-packages (from dataclasses-json<0.7,>=0.5.7->langchain-community) (0.9.0)\n",
      "Requirement already satisfied: langchain-text-splitters<1.0.0,>=0.3.8 in ./.venv/lib/python3.13/site-packages (from langchain<1.0.0,>=0.3.24->langchain-community) (0.3.8)\n",
      "Requirement already satisfied: pydantic<3.0.0,>=2.7.4 in ./.venv/lib/python3.13/site-packages (from langchain<1.0.0,>=0.3.24->langchain-community) (2.11.4)\n",
      "Requirement already satisfied: jsonpatch<2.0,>=1.33 in ./.venv/lib/python3.13/site-packages (from langchain-core<1.0.0,>=0.3.56->langchain-community) (1.33)\n",
      "Requirement already satisfied: packaging<25,>=23.2 in ./.venv/lib/python3.13/site-packages (from langchain-core<1.0.0,>=0.3.56->langchain-community) (24.2)\n",
      "Requirement already satisfied: typing-extensions>=4.7 in ./.venv/lib/python3.13/site-packages (from langchain-core<1.0.0,>=0.3.56->langchain-community) (4.13.2)\n",
      "Requirement already satisfied: jsonpointer>=1.9 in ./.venv/lib/python3.13/site-packages (from jsonpatch<2.0,>=1.33->langchain-core<1.0.0,>=0.3.56->langchain-community) (3.0.0)\n",
      "Requirement already satisfied: httpx<1,>=0.23.0 in ./.venv/lib/python3.13/site-packages (from langsmith<0.4,>=0.1.125->langchain-community) (0.28.1)\n",
      "Requirement already satisfied: orjson<4.0.0,>=3.9.14 in ./.venv/lib/python3.13/site-packages (from langsmith<0.4,>=0.1.125->langchain-community) (3.10.18)\n",
      "Requirement already satisfied: requests-toolbelt<2.0.0,>=1.0.0 in ./.venv/lib/python3.13/site-packages (from langsmith<0.4,>=0.1.125->langchain-community) (1.0.0)\n",
      "Requirement already satisfied: zstandard<0.24.0,>=0.23.0 in ./.venv/lib/python3.13/site-packages (from langsmith<0.4,>=0.1.125->langchain-community) (0.23.0)\n",
      "Requirement already satisfied: anyio in ./.venv/lib/python3.13/site-packages (from httpx<1,>=0.23.0->langsmith<0.4,>=0.1.125->langchain-community) (4.9.0)\n",
      "Requirement already satisfied: certifi in ./.venv/lib/python3.13/site-packages (from httpx<1,>=0.23.0->langsmith<0.4,>=0.1.125->langchain-community) (2025.4.26)\n",
      "Requirement already satisfied: httpcore==1.* in ./.venv/lib/python3.13/site-packages (from httpx<1,>=0.23.0->langsmith<0.4,>=0.1.125->langchain-community) (1.0.9)\n",
      "Requirement already satisfied: idna in ./.venv/lib/python3.13/site-packages (from httpx<1,>=0.23.0->langsmith<0.4,>=0.1.125->langchain-community) (3.10)\n",
      "Requirement already satisfied: h11>=0.16 in ./.venv/lib/python3.13/site-packages (from httpcore==1.*->httpx<1,>=0.23.0->langsmith<0.4,>=0.1.125->langchain-community) (0.16.0)\n",
      "Requirement already satisfied: annotated-types>=0.6.0 in ./.venv/lib/python3.13/site-packages (from pydantic<3.0.0,>=2.7.4->langchain<1.0.0,>=0.3.24->langchain-community) (0.7.0)\n",
      "Requirement already satisfied: pydantic-core==2.33.2 in ./.venv/lib/python3.13/site-packages (from pydantic<3.0.0,>=2.7.4->langchain<1.0.0,>=0.3.24->langchain-community) (2.33.2)\n",
      "Requirement already satisfied: typing-inspection>=0.4.0 in ./.venv/lib/python3.13/site-packages (from pydantic<3.0.0,>=2.7.4->langchain<1.0.0,>=0.3.24->langchain-community) (0.4.0)\n",
      "Requirement already satisfied: python-dotenv>=0.21.0 in ./.venv/lib/python3.13/site-packages (from pydantic-settings<3.0.0,>=2.4.0->langchain-community) (1.1.0)\n",
      "Requirement already satisfied: charset-normalizer<4,>=2 in ./.venv/lib/python3.13/site-packages (from requests<3,>=2->langchain-community) (3.4.2)\n",
      "Requirement already satisfied: urllib3<3,>=1.21.1 in ./.venv/lib/python3.13/site-packages (from requests<3,>=2->langchain-community) (2.4.0)\n",
      "Requirement already satisfied: greenlet>=1 in ./.venv/lib/python3.13/site-packages (from SQLAlchemy<3,>=1.4->langchain-community) (3.2.1)\n",
      "Requirement already satisfied: mypy-extensions>=0.3.0 in ./.venv/lib/python3.13/site-packages (from typing-inspect<1,>=0.4.0->dataclasses-json<0.7,>=0.5.7->langchain-community) (1.1.0)\n",
      "Requirement already satisfied: langgraph-checkpoint<3.0.0,>=2.0.10 in ./.venv/lib/python3.13/site-packages (from langgraph) (2.0.25)\n",
      "Requirement already satisfied: langgraph-prebuilt>=0.1.8 in ./.venv/lib/python3.13/site-packages (from langgraph) (0.1.8)\n",
      "Requirement already satisfied: langgraph-sdk>=0.1.42 in ./.venv/lib/python3.13/site-packages (from langgraph) (0.1.66)\n",
      "Requirement already satisfied: xxhash<4.0.0,>=3.5.0 in ./.venv/lib/python3.13/site-packages (from langgraph) (3.5.0)\n",
      "Requirement already satisfied: ormsgpack<2.0.0,>=1.8.0 in ./.venv/lib/python3.13/site-packages (from langgraph-checkpoint<3.0.0,>=2.0.10->langgraph) (1.9.1)\n",
      "Requirement already satisfied: anthropic<1,>=0.49.0 in ./.venv/lib/python3.13/site-packages (from langchain-anthropic) (0.50.0)\n",
      "Requirement already satisfied: distro<2,>=1.7.0 in ./.venv/lib/python3.13/site-packages (from anthropic<1,>=0.49.0->langchain-anthropic) (1.9.0)\n",
      "Requirement already satisfied: jiter<1,>=0.4.0 in ./.venv/lib/python3.13/site-packages (from anthropic<1,>=0.49.0->langchain-anthropic) (0.9.0)\n",
      "Requirement already satisfied: sniffio in ./.venv/lib/python3.13/site-packages (from anthropic<1,>=0.49.0->langchain-anthropic) (1.3.1)\n",
      "Requirement already satisfied: tiktoken>=0.5.1 in ./.venv/lib/python3.13/site-packages (from tavily-python) (0.9.0)\n",
      "Requirement already satisfied: aiosqlite<0.22,>=0.20 in ./.venv/lib/python3.13/site-packages (from langgraph-checkpoint-sqlite) (0.21.0)\n",
      "Requirement already satisfied: regex>=2022.1.18 in ./.venv/lib/python3.13/site-packages (from tiktoken>=0.5.1->tavily-python) (2024.11.6)\n",
      "\u001b[33mWARNING: Ignoring invalid distribution ~ydantic (/home/seb/BonoboAI/.venv/lib/python3.13/site-packages)\u001b[0m\u001b[33m\n",
      "\u001b[0m\u001b[33mWARNING: Ignoring invalid distribution ~ydantic (/home/seb/BonoboAI/.venv/lib/python3.13/site-packages)\u001b[0m\u001b[33m\n",
      "\u001b[0m\u001b[33mWARNING: Ignoring invalid distribution ~ydantic (/home/seb/BonoboAI/.venv/lib/python3.13/site-packages)\u001b[0m\u001b[33m\n",
      "\u001b[0m\u001b[33mWARNING: Ignoring invalid distribution ~ydantic (/home/seb/BonoboAI/.venv/lib/python3.13/site-packages)\u001b[0m\u001b[33m\n",
      "\u001b[0m"
     ]
    }
   ],
   "source": [
    "!pip install -U langchain-community langgraph langchain-anthropic tavily-python langgraph-checkpoint-sqlite"
   ]
  },
  {
   "cell_type": "code",
   "execution_count": 3,
   "id": "36f0edf4-7c60-408d-af49-cd0a2cd78609",
   "metadata": {},
   "outputs": [
    {
     "name": "stdin",
     "output_type": "stream",
     "text": [
      " ········\n"
     ]
    }
   ],
   "source": [
    "import getpass\n",
    "import os\n",
    "\n",
    "os.environ[\"TAVILY_API_KEY\"] = getpass.getpass()"
   ]
  },
  {
   "cell_type": "code",
   "execution_count": 4,
   "id": "33ad45e4-318e-47b1-87c6-308fd1743bb7",
   "metadata": {},
   "outputs": [
    {
     "name": "stdout",
     "output_type": "stream",
     "text": [
      "[{'title': 'Weather in San Francisco', 'url': 'https://www.weatherapi.com/', 'content': \"{'location': {'name': 'San Francisco', 'region': 'California', 'country': 'United States of America', 'lat': 37.775, 'lon': -122.4183, 'tz_id': 'America/Los_Angeles', 'localtime_epoch': 1746434530, 'localtime': '2025-05-05 01:42'}, 'current': {'last_updated_epoch': 1746433800, 'last_updated': '2025-05-05 01:30', 'temp_c': 13.3, 'temp_f': 55.9, 'is_day': 0, 'condition': {'text': 'Clear', 'icon': '//cdn.weatherapi.com/weather/64x64/night/113.png', 'code': 1000}, 'wind_mph': 5.8, 'wind_kph': 9.4, 'wind_degree': 339, 'wind_dir': 'NNW', 'pressure_mb': 1009.0, 'pressure_in': 29.79, 'precip_mm': 0.0, 'precip_in': 0.0, 'humidity': 80, 'cloud': 0, 'feelslike_c': 12.7, 'feelslike_f': 54.8, 'windchill_c': 12.7, 'windchill_f': 54.9, 'heatindex_c': 12.6, 'heatindex_f': 54.6, 'dewpoint_c': 10.1, 'dewpoint_f': 50.2, 'vis_km': 16.0, 'vis_miles': 9.0, 'uv': 0.0, 'gust_mph': 12.2, 'gust_kph': 19.7}}\", 'score': 0.8263797}, {'title': '7-Day Forecast 37.77N 122.41W - National Weather Service', 'url': 'https://forecast.weather.gov/MapClick.php?lat=37.7771&lon=-122.4196', 'content': 'Air Quality Forecasts\\nInternational System of Units\\nForecast Weather Table Interface\\nHourly River Stages\\nHourly Rainfall\\nNWS Office Map\\nWeather Calculator\\nUser Defined Area\\nSelect Basemap\\nTopographic\\nStreets\\nSatellite\\nOcean\\nClick Map For Forecast\\nDisclaimer\\nABOUT THIS FORECAST\\n\\xa0\\nPoint Forecast:\\nSan Francisco CA\\n\\xa037.77°N 122.41°W (Elev. 131 ft)\\nLast Update:\\n10:55 pm PST Feb 7, 2025\\nForecast Valid:\\n11pm PST Feb 7, 2025-6pm PST Feb 14, 2025\\n\\xa0\\nForecast Discussion\\n\\xa0\\nAdditional Resources', 'score': 0.67706895}]\n"
     ]
    }
   ],
   "source": [
    "from langchain_community.tools.tavily_search import TavilySearchResults\n",
    "\n",
    "search = TavilySearchResults(max_results=2)\n",
    "search_results = search.invoke(\"what is the weather in SF\")\n",
    "print(search_results)\n",
    "# If we want, we can create other tools.\n",
    "# Once we have all the tools we want, we can put them in a list that we will reference later.\n",
    "tools = [search]"
   ]
  },
  {
   "cell_type": "code",
   "execution_count": 5,
   "id": "37f0b3ae-17ca-41e8-8839-fd2903863158",
   "metadata": {},
   "outputs": [
    {
     "name": "stdout",
     "output_type": "stream",
     "text": [
      "\u001b[33mWARNING: Ignoring invalid distribution ~ydantic (/home/seb/BonoboAI/.venv/lib/python3.13/site-packages)\u001b[0m\u001b[33m\n",
      "\u001b[0m\u001b[33mWARNING: Ignoring invalid distribution ~ydantic (/home/seb/BonoboAI/.venv/lib/python3.13/site-packages)\u001b[0m\u001b[33m\n",
      "\u001b[0m\u001b[33mWARNING: Ignoring invalid distribution ~ydantic (/home/seb/BonoboAI/.venv/lib/python3.13/site-packages)\u001b[0m\u001b[33m\n",
      "\u001b[0m\u001b[33mWARNING: Ignoring invalid distribution ~ydantic (/home/seb/BonoboAI/.venv/lib/python3.13/site-packages)\u001b[0m\u001b[33m\n",
      "\u001b[0m\u001b[33mWARNING: Ignoring invalid distribution ~ydantic (/home/seb/BonoboAI/.venv/lib/python3.13/site-packages)\u001b[0m\u001b[33m\n",
      "\u001b[0m\u001b[33mWARNING: Ignoring invalid distribution ~ydantic (/home/seb/BonoboAI/.venv/lib/python3.13/site-packages)\u001b[0m\u001b[33m\n",
      "\u001b[0m"
     ]
    }
   ],
   "source": [
    "!pip install -qU \"langchain[google-genai]\""
   ]
  },
  {
   "cell_type": "code",
   "execution_count": 6,
   "id": "d44d53d6-f626-4b3b-81e7-a80280458797",
   "metadata": {},
   "outputs": [
    {
     "name": "stdin",
     "output_type": "stream",
     "text": [
      "Enter API key for Google Gemini:  ········\n"
     ]
    }
   ],
   "source": [
    "import getpass\n",
    "import os\n",
    "\n",
    "if not os.environ.get(\"GOOGLE_API_KEY\"):\n",
    "  os.environ[\"GOOGLE_API_KEY\"] = getpass.getpass(\"Enter API key for Google Gemini: \")\n",
    "\n",
    "from langchain.chat_models import init_chat_model\n",
    "\n",
    "model = init_chat_model(\"gemini-2.0-flash\", model_provider=\"google_genai\")"
   ]
  },
  {
   "cell_type": "code",
   "execution_count": 7,
   "id": "60d57ab1-5c7a-4643-aecf-2d3e6b5d86a5",
   "metadata": {},
   "outputs": [
    {
     "data": {
      "text/plain": [
       "'Hi there! How can I help you today?'"
      ]
     },
     "execution_count": 7,
     "metadata": {},
     "output_type": "execute_result"
    }
   ],
   "source": [
    "from langchain_core.messages import HumanMessage\n",
    "\n",
    "response = model.invoke([HumanMessage(content=\"hi!\")])\n",
    "response.content"
   ]
  },
  {
   "cell_type": "code",
   "execution_count": 8,
   "id": "a01021f4-51ce-45bc-befc-0d0a28e9693b",
   "metadata": {},
   "outputs": [],
   "source": [
    "model_with_tools = model.bind_tools(tools)"
   ]
  },
  {
   "cell_type": "code",
   "execution_count": 9,
   "id": "b5d2ede6-fa39-4931-98b0-a5d0b74faa95",
   "metadata": {},
   "outputs": [
    {
     "name": "stdout",
     "output_type": "stream",
     "text": [
      "ContentString: Hi there! How can I help you today?\n",
      "ToolCalls: []\n"
     ]
    }
   ],
   "source": [
    "response = model_with_tools.invoke([HumanMessage(content=\"Hi!\")])\n",
    "\n",
    "print(f\"ContentString: {response.content}\")\n",
    "print(f\"ToolCalls: {response.tool_calls}\")"
   ]
  },
  {
   "cell_type": "code",
   "execution_count": 10,
   "id": "cf45bccf-e643-4d9c-bd66-66b7753185f5",
   "metadata": {},
   "outputs": [
    {
     "name": "stdout",
     "output_type": "stream",
     "text": [
      "ContentString: \n",
      "ToolCalls: [{'name': 'tavily_search_results_json', 'args': {'query': 'weather in San Francisco'}, 'id': 'c010fc74-489f-4b56-9036-06ee6e8ac2ae', 'type': 'tool_call'}]\n"
     ]
    }
   ],
   "source": [
    "response = model_with_tools.invoke([HumanMessage(content=\"What's the weather in SF?\")])\n",
    "\n",
    "print(f\"ContentString: {response.content}\")\n",
    "print(f\"ToolCalls: {response.tool_calls}\")"
   ]
  },
  {
   "cell_type": "code",
   "execution_count": 11,
   "id": "c787dc9e-2de4-4d19-b686-c702428959c1",
   "metadata": {},
   "outputs": [],
   "source": [
    "from langgraph.prebuilt import create_react_agent\n",
    "\n",
    "agent_executor = create_react_agent(model, tools)"
   ]
  },
  {
   "cell_type": "code",
   "execution_count": 12,
   "id": "e8f3cfff-335a-418f-a8e9-3952268bcb9f",
   "metadata": {},
   "outputs": [
    {
     "data": {
      "text/plain": [
       "[HumanMessage(content='hi!', additional_kwargs={}, response_metadata={}, id='95e6872e-77bc-482e-afed-9a94d35744f2'),\n",
       " AIMessage(content='Hi there! How can I help you today?', additional_kwargs={}, response_metadata={'prompt_feedback': {'block_reason': 0, 'safety_ratings': []}, 'finish_reason': 'STOP', 'model_name': 'gemini-2.0-flash', 'safety_ratings': []}, id='run--f1f32018-0729-4a32-ab7b-1212397a2b21-0', usage_metadata={'input_tokens': 51, 'output_tokens': 11, 'total_tokens': 62, 'input_token_details': {'cache_read': 0}})]"
      ]
     },
     "execution_count": 12,
     "metadata": {},
     "output_type": "execute_result"
    }
   ],
   "source": [
    "response = agent_executor.invoke({\"messages\": [HumanMessage(content=\"hi!\")]})\n",
    "\n",
    "response[\"messages\"]"
   ]
  },
  {
   "cell_type": "code",
   "execution_count": 13,
   "id": "50ebc322-4518-47e7-9ed4-2ddfb4d6fd90",
   "metadata": {},
   "outputs": [
    {
     "data": {
      "text/plain": [
       "[HumanMessage(content='whats the weather in sf?', additional_kwargs={}, response_metadata={}, id='f56e967e-b51c-4d69-948a-de49ba4f3d3a'),\n",
       " AIMessage(content='', additional_kwargs={'function_call': {'name': 'tavily_search_results_json', 'arguments': '{\"query\": \"weather in San Francisco\"}'}}, response_metadata={'prompt_feedback': {'block_reason': 0, 'safety_ratings': []}, 'finish_reason': 'STOP', 'model_name': 'gemini-2.0-flash', 'safety_ratings': []}, id='run--81f7ff31-ee8f-4a66-a7a5-300b120db38a-0', tool_calls=[{'name': 'tavily_search_results_json', 'args': {'query': 'weather in San Francisco'}, 'id': '5a5b3327-56ee-4284-b046-af5f5b05b9f2', 'type': 'tool_call'}], usage_metadata={'input_tokens': 55, 'output_tokens': 13, 'total_tokens': 68, 'input_token_details': {'cache_read': 0}}),\n",
       " ToolMessage(content='[{\"title\": \"San Francisco weather in May 2025 | Weather25.com\", \"url\": \"https://www.weather25.com/north-america/usa/california/san-francisco?page=month&month=May\", \"content\": \"Location was added to My Locations\\\\nLocation was removed from My Locations\\\\nApril\\\\nJune\\\\nSan Francisco weather in May 2025\\\\nThe temperatures in San Francisco in May are usually low and can range between 50°F and 68°F.\\\\nThe wather in San Francisco in May can vary between cold and nice weather days. Expect a few rainy days but usually not more than 3.\\\\nOur weather forecast can give you a great sense of what weather to expect in San Francisco in May 2025. [...] | Sun | Mon | Tue | Wed | Thu | Fri | Sat |\\\\n| --- | --- | --- | --- | --- | --- | --- |\\\\n| \\\\n | \\\\n| \\\\n| \\\\n| 1  62° /50° | 2  64° /50° | 3  64° /51° |\\\\n| 4  64° /51° | 5  60° /50° | 6  60° /50° | 7  64° /50° | 8  66° /50° | 9  62° /51° | 10  66° /51° |\\\\n| 11  64° /51° | 12  64° /51° | 13  66° /51° | 14  64° /51° | 15  64° /51° | 16  62° /51° | 17  62° /51° |\\\\n| 18  62° /51° | 19  62° /51° | 20  64° /50° | 21  64° /51° | 22  64° /50° | 23  64° /51° | 24  66° /51° | [...] Temperatures\\\\n68° / 50°\\\\n\\\\nRainy Days\\\\n1\\\\n\\\\nSnowy Days\\\\n0\\\\n\\\\nDry Days\\\\n30\\\\n\\\\nRainfall\\\\n0.51\\\\nin\\\\n\\\\nSun Hours\\\\n11.3\\\\nHrs\\\\nHistoric average weather for May\\\\n\\\\nMay\", \"score\": 0.88444936}, {\"title\": \"San Francisco weather in May 2025 | California, USA\", \"url\": \"https://www.weather2travel.com/california/san-francisco/may/\", \"content\": \"San Francisco weather in May 2025\\\\n\\\\nExpect  daytime maximum temperatures of 18°C in San Francisco, California in May based on long-term weather averages. There are 11 hours of sunshine per day on average.\\\\n\\\\nMore about San Francisco\\\\n\\\\nSan Francisco by month\\\\n\\\\nJan\\\\nFeb\\\\nMar\\\\nApr\\\\nMay\\\\nJun\\\\nJul\\\\nAug\\\\nSep\\\\nOct\\\\nNov\\\\nDec\\\\n\\\\nRecommended for California\\\\n\\\\nTUI: up to 7% off holidays booked online\\\\n\\\\nView all TUI offers\\\\n\\\\nTUI deal finder\\\\n\\\\nDestination\\\\n\\\\nAny destination [...] The May weather guide for California (San Francisco) shows long term weather averages processed from data supplied by CRU (University of East Anglia), the Met Office & the Netherlands Meteorological Institute. Find out more about our data sources.\\\\n\\\\nMetric (°C / mm) \\xa0|\\xa0 Imperial (°F / inches)\\\\n\\\\nBack to top\\\\n\\\\nMore about San Francisco\\\\n\\\\nHow hot is it in San Francisco in May?\\\\n\\\\nDaytime temperatures usually reach 18°C in San Francisco in May, falling to 10°C at night.\", \"score\": 0.86981434}]', name='tavily_search_results_json', id='8d7a60ed-a789-411c-9b3d-e26e32533f60', tool_call_id='5a5b3327-56ee-4284-b046-af5f5b05b9f2', artifact={'query': 'weather in San Francisco', 'follow_up_questions': None, 'answer': None, 'images': [], 'results': [{'url': 'https://www.weather25.com/north-america/usa/california/san-francisco?page=month&month=May', 'title': 'San Francisco weather in May 2025 | Weather25.com', 'content': 'Location was added to My Locations\\nLocation was removed from My Locations\\nApril\\nJune\\nSan Francisco weather in May 2025\\nThe temperatures in San Francisco in May are usually low and can range between 50°F and 68°F.\\nThe wather in San Francisco in May can vary between cold and nice weather days. Expect a few rainy days but usually not more than 3.\\nOur weather forecast can give you a great sense of what weather to expect in San Francisco in May 2025. [...] | Sun | Mon | Tue | Wed | Thu | Fri | Sat |\\n| --- | --- | --- | --- | --- | --- | --- |\\n| \\n | \\n| \\n| \\n| 1  62° /50° | 2  64° /50° | 3  64° /51° |\\n| 4  64° /51° | 5  60° /50° | 6  60° /50° | 7  64° /50° | 8  66° /50° | 9  62° /51° | 10  66° /51° |\\n| 11  64° /51° | 12  64° /51° | 13  66° /51° | 14  64° /51° | 15  64° /51° | 16  62° /51° | 17  62° /51° |\\n| 18  62° /51° | 19  62° /51° | 20  64° /50° | 21  64° /51° | 22  64° /50° | 23  64° /51° | 24  66° /51° | [...] Temperatures\\n68° / 50°\\n\\nRainy Days\\n1\\n\\nSnowy Days\\n0\\n\\nDry Days\\n30\\n\\nRainfall\\n0.51\\nin\\n\\nSun Hours\\n11.3\\nHrs\\nHistoric average weather for May\\n\\nMay', 'score': 0.88444936, 'raw_content': None}, {'url': 'https://www.weather2travel.com/california/san-francisco/may/', 'title': 'San Francisco weather in May 2025 | California, USA', 'content': 'San Francisco weather in May 2025\\n\\nExpect  daytime maximum temperatures of 18°C in San Francisco, California in May based on long-term weather averages. There are 11 hours of sunshine per day on average.\\n\\nMore about San Francisco\\n\\nSan Francisco by month\\n\\nJan\\nFeb\\nMar\\nApr\\nMay\\nJun\\nJul\\nAug\\nSep\\nOct\\nNov\\nDec\\n\\nRecommended for California\\n\\nTUI: up to 7% off holidays booked online\\n\\nView all TUI offers\\n\\nTUI deal finder\\n\\nDestination\\n\\nAny destination [...] The May weather guide for California (San Francisco) shows long term weather averages processed from data supplied by CRU (University of East Anglia), the Met Office & the Netherlands Meteorological Institute. Find out more about our data sources.\\n\\nMetric (°C / mm) \\xa0|\\xa0 Imperial (°F / inches)\\n\\nBack to top\\n\\nMore about San Francisco\\n\\nHow hot is it in San Francisco in May?\\n\\nDaytime temperatures usually reach 18°C in San Francisco in May, falling to 10°C at night.', 'score': 0.86981434, 'raw_content': None}], 'response_time': 1.67}),\n",
       " AIMessage(content='The weather in San Francisco in May 2025 is expected to have daytime maximum temperatures of 18°C, falling to 10°C at night. There are expected to be 11 hours of sunshine per day on average.', additional_kwargs={}, response_metadata={'prompt_feedback': {'block_reason': 0, 'safety_ratings': []}, 'finish_reason': 'STOP', 'model_name': 'gemini-2.0-flash', 'safety_ratings': []}, id='run--1cca85ed-0388-49a4-8bb4-e5471be36c28-0', usage_metadata={'input_tokens': 889, 'output_tokens': 52, 'total_tokens': 941, 'input_token_details': {'cache_read': 0}})]"
      ]
     },
     "execution_count": 13,
     "metadata": {},
     "output_type": "execute_result"
    }
   ],
   "source": [
    "response = agent_executor.invoke(\n",
    "    {\"messages\": [HumanMessage(content=\"whats the weather in sf?\")]}\n",
    ")\n",
    "response[\"messages\"]"
   ]
  },
  {
   "cell_type": "code",
   "execution_count": 14,
   "id": "432d257f-0504-4620-a8b9-7fc3a4754394",
   "metadata": {},
   "outputs": [
    {
     "name": "stdout",
     "output_type": "stream",
     "text": [
      "================================\u001b[1m Human Message \u001b[0m=================================\n",
      "\n",
      "whats the weather in sf?\n",
      "==================================\u001b[1m Ai Message \u001b[0m==================================\n",
      "Tool Calls:\n",
      "  tavily_search_results_json (32e25e38-b78c-47f7-83a3-da91e4d53f6d)\n",
      " Call ID: 32e25e38-b78c-47f7-83a3-da91e4d53f6d\n",
      "  Args:\n",
      "    query: weather in San Francisco\n",
      "=================================\u001b[1m Tool Message \u001b[0m=================================\n",
      "Name: tavily_search_results_json\n",
      "\n",
      "[{\"title\": \"San Francisco weather in May 2025 | Weather25.com\", \"url\": \"https://www.weather25.com/north-america/usa/california/san-francisco?page=month&month=May\", \"content\": \"Location was added to My Locations\\nLocation was removed from My Locations\\nApril\\nJune\\nSan Francisco weather in May 2025\\nThe temperatures in San Francisco in May are usually low and can range between 50°F and 68°F.\\nThe wather in San Francisco in May can vary between cold and nice weather days. Expect a few rainy days but usually not more than 3.\\nOur weather forecast can give you a great sense of what weather to expect in San Francisco in May 2025. [...] | Sun | Mon | Tue | Wed | Thu | Fri | Sat |\\n| --- | --- | --- | --- | --- | --- | --- |\\n| \\n | \\n| \\n| \\n| 1  62° /50° | 2  64° /50° | 3  64° /51° |\\n| 4  64° /51° | 5  60° /50° | 6  60° /50° | 7  64° /50° | 8  66° /50° | 9  62° /51° | 10  66° /51° |\\n| 11  64° /51° | 12  64° /51° | 13  66° /51° | 14  64° /51° | 15  64° /51° | 16  62° /51° | 17  62° /51° |\\n| 18  62° /51° | 19  62° /51° | 20  64° /50° | 21  64° /51° | 22  64° /50° | 23  64° /51° | 24  66° /51° | [...] Temperatures\\n68° / 50°\\n\\nRainy Days\\n1\\n\\nSnowy Days\\n0\\n\\nDry Days\\n30\\n\\nRainfall\\n0.51\\nin\\n\\nSun Hours\\n11.3\\nHrs\\nHistoric average weather for May\\n\\nMay\", \"score\": 0.88444936}, {\"title\": \"San Francisco weather in May 2025 | California, USA\", \"url\": \"https://www.weather2travel.com/california/san-francisco/may/\", \"content\": \"San Francisco weather in May 2025\\n\\nExpect  daytime maximum temperatures of 18°C in San Francisco, California in May based on long-term weather averages. There are 11 hours of sunshine per day on average.\\n\\nMore about San Francisco\\n\\nSan Francisco by month\\n\\nJan\\nFeb\\nMar\\nApr\\nMay\\nJun\\nJul\\nAug\\nSep\\nOct\\nNov\\nDec\\n\\nRecommended for California\\n\\nTUI: up to 7% off holidays booked online\\n\\nView all TUI offers\\n\\nTUI deal finder\\n\\nDestination\\n\\nAny destination [...] The May weather guide for California (San Francisco) shows long term weather averages processed from data supplied by CRU (University of East Anglia), the Met Office & the Netherlands Meteorological Institute. Find out more about our data sources.\\n\\nMetric (°C / mm)  |  Imperial (°F / inches)\\n\\nBack to top\\n\\nMore about San Francisco\\n\\nHow hot is it in San Francisco in May?\\n\\nDaytime temperatures usually reach 18°C in San Francisco in May, falling to 10°C at night.\", \"score\": 0.86981434}]\n",
      "==================================\u001b[1m Ai Message \u001b[0m==================================\n",
      "\n",
      "I found that the temperatures in San Francisco in May typically range from 50°F to 68°F. You can expect a few rainy days, but usually no more than 3.\n"
     ]
    }
   ],
   "source": [
    "for step in agent_executor.stream(\n",
    "    {\"messages\": [HumanMessage(content=\"whats the weather in sf?\")]},\n",
    "    stream_mode=\"values\",\n",
    "):\n",
    "    step[\"messages\"][-1].pretty_print()"
   ]
  },
  {
   "cell_type": "code",
   "execution_count": 15,
   "id": "e1e61736-0b13-4214-9db2-fc1b11788282",
   "metadata": {},
   "outputs": [
    {
     "name": "stdout",
     "output_type": "stream",
     "text": [
      "I|'m sorry, I don't have the current weather conditions in San Francisco.| However, I can tell you that the expected temperatures in San Francisco in May are| usually between 50°F and 68°F.|"
     ]
    }
   ],
   "source": [
    "for step, metadata in agent_executor.stream(\n",
    "    {\"messages\": [HumanMessage(content=\"whats the weather in sf?\")]},\n",
    "    stream_mode=\"messages\",\n",
    "):\n",
    "    if metadata[\"langgraph_node\"] == \"agent\" and (text := step.text()):\n",
    "        print(text, end=\"|\")"
   ]
  },
  {
   "cell_type": "code",
   "execution_count": 16,
   "id": "0ca4a212-c7d4-43dd-ba33-9c687c31530a",
   "metadata": {},
   "outputs": [
    {
     "name": "stdout",
     "output_type": "stream",
     "text": [
      "The weather in San| Francisco in May 2025 is expected to have daytime maximum temperatures of| 18°C, falling to 10°C at night. There| are expected to be 11 hours of sunshine per day on average.|"
     ]
    }
   ],
   "source": [
    "for step, metadata in agent_executor.stream(\n",
    "    {\"messages\": [HumanMessage(content=\"whats the weather in sf?\")]},\n",
    "    stream_mode=\"messages\",\n",
    "):\n",
    "    if metadata[\"langgraph_node\"] == \"agent\" and (text := step.text()):\n",
    "        print(text, end=\"|\")"
   ]
  },
  {
   "cell_type": "code",
   "execution_count": 17,
   "id": "bad2e95f-db05-47f4-9b96-2a3f02c1aac4",
   "metadata": {},
   "outputs": [],
   "source": [
    "from langgraph.checkpoint.memory import MemorySaver\n",
    "\n",
    "memory = MemorySaver()"
   ]
  },
  {
   "cell_type": "code",
   "execution_count": 18,
   "id": "17311708-1002-476e-8d23-c02a768e4dbe",
   "metadata": {},
   "outputs": [],
   "source": [
    "agent_executor = create_react_agent(model, tools, checkpointer=memory)\n",
    "\n",
    "config = {\"configurable\": {\"thread_id\": \"abc123\"}}"
   ]
  },
  {
   "cell_type": "code",
   "execution_count": 19,
   "id": "502d6933-9d97-46d3-ae8c-752c40358a1c",
   "metadata": {},
   "outputs": [
    {
     "name": "stdout",
     "output_type": "stream",
     "text": [
      "{'agent': {'messages': [AIMessage(content='Hi Bob! How can I help you today?', additional_kwargs={}, response_metadata={'prompt_feedback': {'block_reason': 0, 'safety_ratings': []}, 'finish_reason': 'STOP', 'model_name': 'gemini-2.0-flash', 'safety_ratings': []}, id='run--1959fc33-f6f7-4c2a-9116-e1cb78ad27e8-0', usage_metadata={'input_tokens': 53, 'output_tokens': 11, 'total_tokens': 64, 'input_token_details': {'cache_read': 0}})]}}\n",
      "----\n"
     ]
    }
   ],
   "source": [
    "for chunk in agent_executor.stream(\n",
    "    {\"messages\": [HumanMessage(content=\"hi im bob!\")]}, config\n",
    "):\n",
    "    print(chunk)\n",
    "    print(\"----\")"
   ]
  },
  {
   "cell_type": "code",
   "execution_count": 20,
   "id": "46aadb8c-96cd-4ebc-9ccc-0ce72da29876",
   "metadata": {},
   "outputs": [
    {
     "name": "stdout",
     "output_type": "stream",
     "text": [
      "{'agent': {'messages': [AIMessage(content='Your name is Bob.', additional_kwargs={}, response_metadata={'prompt_feedback': {'block_reason': 0, 'safety_ratings': []}, 'finish_reason': 'STOP', 'model_name': 'gemini-2.0-flash', 'safety_ratings': []}, id='run--c4627a6d-d2a1-4ce8-a348-57a54b7db6cf-0', usage_metadata={'input_tokens': 67, 'output_tokens': 6, 'total_tokens': 73, 'input_token_details': {'cache_read': 0}})]}}\n",
      "----\n"
     ]
    }
   ],
   "source": [
    "for chunk in agent_executor.stream(\n",
    "    {\"messages\": [HumanMessage(content=\"whats my name?\")]}, config\n",
    "):\n",
    "    print(chunk)\n",
    "    print(\"----\")"
   ]
  },
  {
   "cell_type": "code",
   "execution_count": 21,
   "id": "b4bd6f89-7be0-4fbe-ae49-c5c2538a8e7e",
   "metadata": {},
   "outputs": [
    {
     "name": "stdout",
     "output_type": "stream",
     "text": [
      "{'agent': {'messages': [AIMessage(content=\"I do not have access to personal information, and thus I don't know your name.\", additional_kwargs={}, response_metadata={'prompt_feedback': {'block_reason': 0, 'safety_ratings': []}, 'finish_reason': 'STOP', 'model_name': 'gemini-2.0-flash', 'safety_ratings': []}, id='run--a5e19987-3fa7-400a-ab3a-816179ce207b-0', usage_metadata={'input_tokens': 53, 'output_tokens': 20, 'total_tokens': 73, 'input_token_details': {'cache_read': 0}})]}}\n",
      "----\n"
     ]
    }
   ],
   "source": [
    "config = {\"configurable\": {\"thread_id\": \"xyz123\"}}\n",
    "for chunk in agent_executor.stream(\n",
    "    {\"messages\": [HumanMessage(content=\"whats my name?\")]}, config\n",
    "):\n",
    "    print(chunk)\n",
    "    print(\"----\")"
   ]
  },
  {
   "cell_type": "code",
   "execution_count": 23,
   "id": "cc63a4ac-0a57-41f7-80af-db94cb5c9036",
   "metadata": {},
   "outputs": [
    {
     "name": "stdout",
     "output_type": "stream",
     "text": [
      "{'agent': {'messages': [AIMessage(content=\"I'm doing well, thanks for asking! How can I help you with anything?\", additional_kwargs={}, response_metadata={'prompt_feedback': {'block_reason': 0, 'safety_ratings': []}, 'finish_reason': 'STOP', 'model_name': 'gemini-2.0-flash', 'safety_ratings': []}, id='run--360a495d-032b-46cb-b20c-cf62f85d147c-0', usage_metadata={'input_tokens': 76, 'output_tokens': 19, 'total_tokens': 95, 'input_token_details': {'cache_read': 0}})]}}\n"
     ]
    }
   ],
   "source": [
    "config = {\"configurable\": {\"thread_id\": \"xyz242\"}}\n",
    "for chunk in agent_executor.stream(\n",
    "    {\"messages\": [HumanMessage(content=\"Hey, what's up?\")]}, config\n",
    "):\n",
    "    print(chunk)"
   ]
  },
  {
   "cell_type": "code",
   "execution_count": null,
   "id": "6913b314-d8af-4e4a-869c-e83cf47a09a8",
   "metadata": {},
   "outputs": [],
   "source": []
  }
 ],
 "metadata": {
  "kernelspec": {
   "display_name": "Python 3 (ipykernel)",
   "language": "python",
   "name": "python3"
  },
  "language_info": {
   "codemirror_mode": {
    "name": "ipython",
    "version": 3
   },
   "file_extension": ".py",
   "mimetype": "text/x-python",
   "name": "python",
   "nbconvert_exporter": "python",
   "pygments_lexer": "ipython3",
   "version": "3.13.2"
  }
 },
 "nbformat": 4,
 "nbformat_minor": 5
}
